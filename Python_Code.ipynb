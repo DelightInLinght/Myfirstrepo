{
  "nbformat": 4,
  "nbformat_minor": 0,
  "metadata": {
    "colab": {
      "provenance": [],
      "authorship_tag": "ABX9TyOMlIKb316rDhgtXj3tHTAv"
    },
    "kernelspec": {
      "name": "python3",
      "display_name": "Python 3"
    },
    "language_info": {
      "name": "python"
    }
  },
  "cells": [
    {
      "cell_type": "code",
      "source": [
        "# Python Programming beginning"
      ],
      "metadata": {
        "id": "9vwDpY6pULEF"
      },
      "execution_count": null,
      "outputs": []
    },
    {
      "cell_type": "code",
      "source": [
        "print(\"Hello World!\")"
      ],
      "metadata": {
        "colab": {
          "base_uri": "https://localhost:8080/"
        },
        "id": "uoDG543yUSTW",
        "outputId": "593d2908-385c-463c-e1f4-10f141204f13"
      },
      "execution_count": null,
      "outputs": [
        {
          "output_type": "stream",
          "name": "stdout",
          "text": [
            "Hello World!\n"
          ]
        }
      ]
    },
    {
      "cell_type": "code",
      "source": [
        "# WAP to print \"Honesty is the best policy!\"\n",
        "print(\"Honesty\\nis the\\nbest\\npolicy\")"
      ],
      "metadata": {
        "colab": {
          "base_uri": "https://localhost:8080/"
        },
        "id": "yLzd7afGUkfR",
        "outputId": "9d3889c2-2219-40fb-9858-05f58fd16652"
      },
      "execution_count": null,
      "outputs": [
        {
          "output_type": "stream",
          "name": "stdout",
          "text": [
            "Honesty\n",
            "is the\n",
            "best\n",
            "policy\n"
          ]
        }
      ]
    },
    {
      "cell_type": "code",
      "source": [
        "# Use Read–eval–print loop(REPL) and print the table of 7\n",
        "for i in range(1, 11):\n",
        "    print(f\"7 x {i} = {7*i}\")\n"
      ],
      "metadata": {
        "colab": {
          "base_uri": "https://localhost:8080/"
        },
        "id": "WPAcldH-U892",
        "outputId": "00792726-b5a7-4b1e-a232-ee35d432ee07"
      },
      "execution_count": null,
      "outputs": [
        {
          "output_type": "stream",
          "name": "stdout",
          "text": [
            "7 x 1 = 7\n",
            "7 x 2 = 14\n",
            "7 x 3 = 21\n",
            "7 x 4 = 28\n",
            "7 x 5 = 35\n",
            "7 x 6 = 42\n",
            "7 x 7 = 49\n",
            "7 x 8 = 56\n",
            "7 x 9 = 63\n",
            "7 x 10 = 70\n"
          ]
        }
      ]
    },
    {
      "cell_type": "code",
      "source": [
        "# WAP to import a module and perform operation based on it\n",
        "import math\n",
        "\n",
        "# Calculate the square root of 16\n",
        "sqrt_16 = math.sqrt(16)\n",
        "print(f\"The square root of 16 is {sqrt_16}\")\n",
        "\n",
        "# Calculate the cosine of pi\n",
        "cos_pi = math.cos(math.pi)\n",
        "print(f\"The cosine of pi is {cos_pi}\")\n",
        "\n",
        "# Calculate the factorial of 5\n",
        "factorial_5 = math.factorial(5)\n",
        "print(f\"The factorial of 5 is {factorial_5}\")\n"
      ],
      "metadata": {
        "colab": {
          "base_uri": "https://localhost:8080/"
        },
        "id": "tgGo2shqVyWD",
        "outputId": "7b51cd07-424f-4405-a192-0947452e9b34"
      },
      "execution_count": null,
      "outputs": [
        {
          "output_type": "stream",
          "name": "stdout",
          "text": [
            "The square root of 16 is 4.0\n",
            "The cosine of pi is -1.0\n",
            "The factorial of 5 is 120\n"
          ]
        }
      ]
    },
    {
      "cell_type": "code",
      "source": [
        "# WAP to read content of a directory using os module\n",
        "import os\n",
        "\n",
        "# Specify the directory you want to create\n",
        "directory = 'New_dir'\n",
        "\n",
        "# Create the directory using os.mkdir\n",
        "# Check first whether this directory already exists\n",
        "if not os.path.exists(directory):\n",
        "    os.mkdir(directory)\n",
        "\n",
        "# Specify the file you want to create\n",
        "file = os.path.join(directory, 'twinkle.txt')\n",
        "\n",
        "# Write the \"Twinkle Twinkle Little Star\" poem into the file\n",
        "with open(file, 'w') as f:\n",
        "    f.write(\"Twinkle, twinkle, little star,\\n\")\n",
        "    f.write(\"How I wonder what you are.\\n\")\n",
        "    f.write(\"Up above the world so high,\\n\")\n",
        "    f.write(\"Like a diamond in the sky.\\n\")\n",
        "\n",
        "# Use os.listdir to get the contents of the directory\n",
        "contents = os.listdir(directory)\n",
        "\n",
        "# Print the contents\n",
        "for item in contents:\n",
        "    print(item)\n",
        "\n"
      ],
      "metadata": {
        "colab": {
          "base_uri": "https://localhost:8080/"
        },
        "id": "Xtkyn4VKWb-7",
        "outputId": "63e44722-2379-4bdb-f229-5e242d05713e"
      },
      "execution_count": null,
      "outputs": [
        {
          "output_type": "stream",
          "name": "stdout",
          "text": [
            "twinkle.txt\n"
          ]
        }
      ]
    },
    {
      "cell_type": "code",
      "source": [
        "# WAP to add two numbers\n",
        "Num1 = 45\n",
        "Num2 = 45\n",
        "Sum1 = Num1 + Num2\n",
        "Sum1"
      ],
      "metadata": {
        "colab": {
          "base_uri": "https://localhost:8080/"
        },
        "id": "scJDvqOuX8if",
        "outputId": "253a722c-3685-49b5-de3b-4d793eafb4df"
      },
      "execution_count": null,
      "outputs": [
        {
          "output_type": "execute_result",
          "data": {
            "text/plain": [
              "90"
            ]
          },
          "metadata": {},
          "execution_count": 19
        }
      ]
    },
    {
      "cell_type": "code",
      "source": [
        "# WAP to find remainder\n",
        "N1 = 78\n",
        "N2 = 2\n",
        "Rem = N1 % N2\n",
        "Rem"
      ],
      "metadata": {
        "colab": {
          "base_uri": "https://localhost:8080/"
        },
        "id": "ynQxfE6oYHLh",
        "outputId": "9e4d65e8-7797-4a64-8b95-c3b6ef6160d0"
      },
      "execution_count": null,
      "outputs": [
        {
          "output_type": "execute_result",
          "data": {
            "text/plain": [
              "0"
            ]
          },
          "metadata": {},
          "execution_count": 20
        }
      ]
    },
    {
      "cell_type": "code",
      "source": [
        "a = input(\"Enter a value :\")\n",
        "print(type(a))"
      ],
      "metadata": {
        "colab": {
          "base_uri": "https://localhost:8080/"
        },
        "id": "t5nVSu5iZ5C3",
        "outputId": "07066a36-0521-4b02-9849-87ec691ec4d7"
      },
      "execution_count": null,
      "outputs": [
        {
          "output_type": "stream",
          "name": "stdout",
          "text": [
            "Enter a value :3+4j\n",
            "<class 'str'>\n"
          ]
        }
      ]
    },
    {
      "cell_type": "code",
      "source": [
        "# Use comparison operator to find which one is greater\n",
        "a = 45\n",
        "b = 30\n",
        "if a > b:\n",
        "  print(\"a is greater than b\")\n",
        "else:\n",
        "  print(\"b is greater than a\")"
      ],
      "metadata": {
        "colab": {
          "base_uri": "https://localhost:8080/"
        },
        "id": "ZK0-Pq2laDtX",
        "outputId": "765c509e-5310-4f11-b10f-608e8d5fd750"
      },
      "execution_count": null,
      "outputs": [
        {
          "output_type": "stream",
          "name": "stdout",
          "text": [
            "a is greater than b\n"
          ]
        }
      ]
    },
    {
      "cell_type": "code",
      "source": [
        "# find average of two numbers\n",
        "a = 78\n",
        "b = 70\n",
        "print(\"average :\", (a+b)/2)"
      ],
      "metadata": {
        "colab": {
          "base_uri": "https://localhost:8080/"
        },
        "id": "4_8UHptva5nx",
        "outputId": "556b16e1-2291-4578-d9db-48fd20bcc9ce"
      },
      "execution_count": null,
      "outputs": [
        {
          "output_type": "stream",
          "name": "stdout",
          "text": [
            "average : 74.0\n"
          ]
        }
      ]
    },
    {
      "cell_type": "code",
      "source": [
        "# Say hello to user\n",
        "Name = input(\"Enter your name :\")\n",
        "print(\"Hello,\",Name)"
      ],
      "metadata": {
        "colab": {
          "base_uri": "https://localhost:8080/"
        },
        "id": "av9bABUEbMl9",
        "outputId": "02f2cd5a-fd18-4bb2-9bf0-7700e9efca09"
      },
      "execution_count": null,
      "outputs": [
        {
          "output_type": "stream",
          "name": "stdout",
          "text": [
            "Enter your name :Mira\n",
            "Hello, Mira\n"
          ]
        }
      ]
    },
    {
      "cell_type": "code",
      "source": [
        "# WAP to delete double space\n",
        "Str1 = \"The real  beauty is in you,  Don't  search it outside. \"\n",
        "print(Str1)\n",
        "rep = Str1.replace(\"  \",\" \")\n",
        "rep"
      ],
      "metadata": {
        "id": "1OtpVJ7dbvRl",
        "colab": {
          "base_uri": "https://localhost:8080/",
          "height": 53
        },
        "outputId": "bfda3076-88e2-4660-f71c-08d793787272"
      },
      "execution_count": null,
      "outputs": [
        {
          "output_type": "stream",
          "name": "stdout",
          "text": [
            "The real  beauty is in you,  Don't  search it outside. \n"
          ]
        },
        {
          "output_type": "execute_result",
          "data": {
            "text/plain": [
              "\"The real beauty is in you, Don't search it outside. \""
            ],
            "application/vnd.google.colaboratory.intrinsic+json": {
              "type": "string"
            }
          },
          "metadata": {},
          "execution_count": 5
        }
      ]
    },
    {
      "cell_type": "code",
      "source": [
        "# Write a function using format string\n",
        "def remove_double_spaces(s):\n",
        "    while '  ' in s:\n",
        "        s = s.replace('  ', ' ')\n",
        "    return s\n",
        "\n",
        "# Test the function\n",
        "s = \"\\'  This  is  a  string  with  double  spaces  \\'\"\n",
        "print(remove_double_spaces(s))\n"
      ],
      "metadata": {
        "id": "GiESIja7cXyV",
        "colab": {
          "base_uri": "https://localhost:8080/"
        },
        "outputId": "91e94af3-72c0-46c3-e44a-7d35b684615c"
      },
      "execution_count": null,
      "outputs": [
        {
          "output_type": "stream",
          "name": "stdout",
          "text": [
            "' This is a string with double spaces '\n"
          ]
        }
      ]
    },
    {
      "cell_type": "code",
      "source": [
        "# String format method\n",
        "quotes = \"Hello Everyone, this is time to be active and work hard!\"\n",
        "print(f\"I want to say, {quotes}\")\n",
        "print(\"I want to say, {}\".format(quotes))"
      ],
      "metadata": {
        "colab": {
          "base_uri": "https://localhost:8080/"
        },
        "id": "U0uPDJd9Upoz",
        "outputId": "6049c1e7-9ca5-4bcd-e9c3-6e69f4bf44ee"
      },
      "execution_count": null,
      "outputs": [
        {
          "output_type": "stream",
          "name": "stdout",
          "text": [
            "I want to say, Hello Everyone, this is time to be active and work hard!\n",
            "I want to say, Hello Everyone, this is time to be active and work hard!\n"
          ]
        }
      ]
    },
    {
      "cell_type": "code",
      "source": [
        "# String functions\n",
        "string_1 = \"Spirituality gives me the freedom from fear!\"\n",
        "print(len(string_1))\n",
        "print(string_1.endswith(\"ear\"))\n",
        "print(string_1.count(\"f\"))\n",
        "print(string_1.capitalize())\n",
        "print(string_1.upper())\n",
        "print(string_1.lower())\n",
        "print(string_1.find(\"me\"))\n",
        "print(string_1.replace(\"me\", \"you\"))"
      ],
      "metadata": {
        "colab": {
          "base_uri": "https://localhost:8080/"
        },
        "id": "3pQStsgoWblu",
        "outputId": "2ee5a673-dd3a-4437-c598-a369ec0417b5"
      },
      "execution_count": null,
      "outputs": [
        {
          "output_type": "stream",
          "name": "stdout",
          "text": [
            "44\n",
            "False\n",
            "3\n",
            "Spirituality gives me the freedom from fear!\n",
            "SPIRITUALITY GIVES ME THE FREEDOM FROM FEAR!\n",
            "spirituality gives me the freedom from fear!\n",
            "19\n",
            "Spirituality gives you the freedom from fear!\n"
          ]
        }
      ]
    },
    {
      "cell_type": "code",
      "source": [
        "list1 = [4,\"bool\",7.2,3+7j,\"!@#$%^&*\"]\n",
        "list1.index(\"bool\")\n"
      ],
      "metadata": {
        "colab": {
          "base_uri": "https://localhost:8080/"
        },
        "id": "F6jZX1QFYxLm",
        "outputId": "0966ee34-9669-42f5-d821-02c1cff1c0b3"
      },
      "execution_count": null,
      "outputs": [
        {
          "output_type": "execute_result",
          "data": {
            "text/plain": [
              "1"
            ]
          },
          "metadata": {},
          "execution_count": 45
        }
      ]
    },
    {
      "cell_type": "code",
      "source": [
        "list2 = [5,7,78,10,6,8]\n",
        "list2.sort()\n",
        "print(list2)\n",
        "list2.reverse()\n",
        "print(list2)\n",
        "list2.append(5)\n",
        "print(list2)\n",
        "list2.pop()\n",
        "print(list2)\n",
        "list2.insert(5,50)\n",
        "print(list2)\n",
        "list2.remove(7)\n",
        "print(list2)"
      ],
      "metadata": {
        "colab": {
          "base_uri": "https://localhost:8080/"
        },
        "id": "ofbcxARzai8O",
        "outputId": "3cf12086-1cc7-4326-e6f4-b516886d0642"
      },
      "execution_count": null,
      "outputs": [
        {
          "output_type": "stream",
          "name": "stdout",
          "text": [
            "[5, 6, 7, 8, 10, 78]\n",
            "[78, 10, 8, 7, 6, 5]\n",
            "[78, 10, 8, 7, 6, 5, 5]\n",
            "[78, 10, 8, 7, 6, 5]\n",
            "[78, 10, 8, 7, 6, 50, 5]\n",
            "[78, 10, 8, 6, 50, 5]\n"
          ]
        }
      ]
    },
    {
      "cell_type": "code",
      "source": [
        "tup1 =(4,5 + 7j,8.0, \"str\")\n",
        "print(tup1.count(4))\n",
        "print(tup1.index(4))"
      ],
      "metadata": {
        "colab": {
          "base_uri": "https://localhost:8080/"
        },
        "id": "K6SZerkWa92U",
        "outputId": "900c6ab5-8580-48e2-a115-d667c9ed6cfc"
      },
      "execution_count": null,
      "outputs": [
        {
          "output_type": "stream",
          "name": "stdout",
          "text": [
            "1\n",
            "0\n"
          ]
        }
      ]
    },
    {
      "cell_type": "code",
      "source": [
        "# WAP to store 7 fruits from user\n",
        "l = []\n",
        "for i in range(7):\n",
        "  fruit = input(\"Enter fruit name: \")\n",
        "  l.append(fruit)\n",
        "print(l)"
      ],
      "metadata": {
        "colab": {
          "base_uri": "https://localhost:8080/"
        },
        "id": "kkK_fR7xe9iz",
        "outputId": "d3b40a3b-0a87-414a-bf9c-8adc83667346"
      },
      "execution_count": null,
      "outputs": [
        {
          "output_type": "stream",
          "name": "stdout",
          "text": [
            "Enter fruit name: a\n",
            "Enter fruit name: b\n",
            "Enter fruit name: c\n",
            "Enter fruit name: d\n",
            "Enter fruit name: e\n",
            "Enter fruit name: f\n",
            "Enter fruit name: g\n",
            "['a', 'b', 'c', 'd', 'e', 'f', 'g']\n"
          ]
        }
      ]
    },
    {
      "cell_type": "code",
      "source": [
        "# WAP to sum all elements of a tuple and a list\n",
        "L1 = [5,-7,1,0,6]\n",
        "T1 = (7,0,-4,1,-3)\n",
        "print(\"Sum of list elements:\",sum(L1))\n",
        "s=0\n",
        "for i in range(len(T1)):\n",
        "  s += T1[i]\n",
        "print(\"Sum of tuple elements:\",s)"
      ],
      "metadata": {
        "colab": {
          "base_uri": "https://localhost:8080/"
        },
        "id": "NUm2yYrygHDO",
        "outputId": "aa66bd24-8428-458e-c3f6-cb0d4e3259b9"
      },
      "execution_count": null,
      "outputs": [
        {
          "output_type": "stream",
          "name": "stdout",
          "text": [
            "Sum of list elements: 5\n",
            "Sum of tuple elements: 1\n"
          ]
        }
      ]
    },
    {
      "cell_type": "code",
      "source": [
        "Dict1 = {\"Mango\":\"Aam\",\"I\":\"Main\",\"You\":\"tum\"}"
      ],
      "metadata": {
        "id": "rmgVcR03hHE6"
      },
      "execution_count": null,
      "outputs": []
    },
    {
      "cell_type": "code",
      "source": [
        "a=Dict1.keys()\n",
        "b=Dict1.values()\n",
        "c=Dict1.items()\n",
        "print(a, type(a))\n",
        "print(b, type(b))\n",
        "print(c, type(c))"
      ],
      "metadata": {
        "colab": {
          "base_uri": "https://localhost:8080/"
        },
        "id": "LqsWDzVbiLzu",
        "outputId": "9f1e9497-dd2c-49df-cf08-e5350930cecb"
      },
      "execution_count": null,
      "outputs": [
        {
          "output_type": "stream",
          "name": "stdout",
          "text": [
            "dict_keys(['Mango', 'I', 'You']) <class 'dict_keys'>\n",
            "dict_values(['Aam', 'Main', 'tum']) <class 'dict_values'>\n",
            "dict_items([('Mango', 'Aam'), ('I', 'Main'), ('You', 'tum')]) <class 'dict_items'>\n"
          ]
        }
      ]
    },
    {
      "cell_type": "code",
      "source": [
        "Dict1.update({\"aaam\":\"Mango\"})\n",
        "Dict1"
      ],
      "metadata": {
        "colab": {
          "base_uri": "https://localhost:8080/"
        },
        "id": "-Gx8T--siTjz",
        "outputId": "c0baee3d-c987-41ac-dbf1-94a8ab2a2591"
      },
      "execution_count": null,
      "outputs": [
        {
          "output_type": "execute_result",
          "data": {
            "text/plain": [
              "{'Mango': 'Aam', 'I': 'Main', 'You': 'tum', 'Aam': 'Mango', 'aaam': 'Mango'}"
            ]
          },
          "metadata": {},
          "execution_count": 85
        }
      ]
    },
    {
      "cell_type": "code",
      "source": [
        "Dict1.get(\"You\")\n",
        "#Dict1"
      ],
      "metadata": {
        "colab": {
          "base_uri": "https://localhost:8080/",
          "height": 35
        },
        "id": "Y3AbLepnjHS-",
        "outputId": "13d082d8-890a-42a3-8687-f5fe20798f2b"
      },
      "execution_count": null,
      "outputs": [
        {
          "output_type": "execute_result",
          "data": {
            "text/plain": [
              "'tum'"
            ],
            "application/vnd.google.colaboratory.intrinsic+json": {
              "type": "string"
            }
          },
          "metadata": {},
          "execution_count": 89
        }
      ]
    },
    {
      "cell_type": "code",
      "source": [
        "Set1 = {\"a\",\"b\",2.5,2,3+5j}"
      ],
      "metadata": {
        "id": "_XzoFX_Zj9Lv"
      },
      "execution_count": null,
      "outputs": []
    },
    {
      "cell_type": "code",
      "source": [
        "Set2 = {7,8,5,1}\n",
        "Set3 = {7,0,5,3}\n",
        "Set4 = set({4,5,7,7,8})"
      ],
      "metadata": {
        "id": "cx9wbEi0kQIM"
      },
      "execution_count": null,
      "outputs": []
    },
    {
      "cell_type": "code",
      "source": [
        "Set4.add(2)\n",
        "Set4"
      ],
      "metadata": {
        "colab": {
          "base_uri": "https://localhost:8080/"
        },
        "id": "jnKvjO_Jkxgb",
        "outputId": "9b22a7a8-4219-4477-9d65-453fc1786bf0"
      },
      "execution_count": null,
      "outputs": [
        {
          "output_type": "execute_result",
          "data": {
            "text/plain": [
              "{2, 4, 5, 7, 8}"
            ]
          },
          "metadata": {},
          "execution_count": 12
        }
      ]
    },
    {
      "cell_type": "code",
      "source": [
        "print(len(Set2))\n",
        "Set2.remove(8)\n",
        "print(Set2)\n",
        "print(Set3.pop())\n",
        "print(Set2)\n",
        "Set2.clear()\n",
        "print(Set2)"
      ],
      "metadata": {
        "colab": {
          "base_uri": "https://localhost:8080/"
        },
        "id": "1swfHkYSk8nQ",
        "outputId": "05d92a1f-6739-48be-ca02-d684a41f0c2a"
      },
      "execution_count": null,
      "outputs": [
        {
          "output_type": "stream",
          "name": "stdout",
          "text": [
            "4\n",
            "{1, 5, 7}\n",
            "0\n",
            "{1, 5, 7}\n",
            "set()\n"
          ]
        }
      ]
    },
    {
      "cell_type": "code",
      "source": [
        "print(Set3)\n",
        "print(Set4)\n",
        "I = Set4.intersection(Set3)\n",
        "U = Set4.union(Set3)\n",
        "print(I)\n",
        "U"
      ],
      "metadata": {
        "id": "EusLXus9ls6a",
        "colab": {
          "base_uri": "https://localhost:8080/"
        },
        "outputId": "d28d8775-7b34-4b15-e62e-845efdec4782"
      },
      "execution_count": null,
      "outputs": [
        {
          "output_type": "stream",
          "name": "stdout",
          "text": [
            "{3, 5, 7}\n",
            "{2, 4, 5, 7, 8}\n",
            "{5, 7}\n"
          ]
        },
        {
          "output_type": "execute_result",
          "data": {
            "text/plain": [
              "{2, 3, 4, 5, 7, 8}"
            ]
          },
          "metadata": {},
          "execution_count": 14
        }
      ]
    },
    {
      "cell_type": "code",
      "source": [
        "# WAP to creat a dictionary\n",
        "Dictionary = {}\n",
        "for i in range(5):\n",
        "  Name = input(\"Enter your name:\")\n",
        "  Lang = input(\"Enter your langyage:\")\n",
        "  Dictionary.update({Name:Lang})\n",
        "print(Dictionary)\n"
      ],
      "metadata": {
        "colab": {
          "base_uri": "https://localhost:8080/"
        },
        "id": "NGli5TdL-qH0",
        "outputId": "5b90a6d7-7ce1-4322-c57f-e6a05a33fdc2"
      },
      "execution_count": null,
      "outputs": [
        {
          "output_type": "stream",
          "name": "stdout",
          "text": [
            "Enter your name:Mira\n",
            "Enter your langyage:Hindi\n",
            "Enter your name:Kanha\n",
            "Enter your langyage:Sanskrit\n",
            "Enter your name:Radha\n",
            "Enter your langyage:Sanskrit\n",
            "Enter your name:Ram\n",
            "Enter your langyage:Urdu\n",
            "Enter your name:Sita\n",
            "Enter your langyage:Hindi\n",
            "{'Mira': 'Hindi', 'Kanha': 'Sanskrit', 'Radha': 'Sanskrit', 'Ram': 'Urdu', 'Sita': 'Hindi'}\n"
          ]
        }
      ]
    },
    {
      "cell_type": "code",
      "source": [
        "Dictionary = {'Mira': 'Hindi', 'Mira': 'Sanskrit', 'Radha': 'Sanskrit', 'Ram': 'Urdu', 'Sita': 'Hindi'}\n",
        "\n",
        "print(Dictionary)"
      ],
      "metadata": {
        "colab": {
          "base_uri": "https://localhost:8080/"
        },
        "id": "jQKTL93_AyCq",
        "outputId": "0b5d18c7-98c6-4c32-fd76-40db5b322118"
      },
      "execution_count": null,
      "outputs": [
        {
          "output_type": "stream",
          "name": "stdout",
          "text": [
            "{'Mira': 'Sanskrit', 'Radha': 'Sanskrit', 'Ram': 'Urdu', 'Sita': 'Hindi'}\n"
          ]
        }
      ]
    },
    {
      "cell_type": "code",
      "source": [
        "# Set are immutable and no indexing\n",
        "S = {1,\"siya\",\"5.2\",5.2,3,7}\n",
        "print(S)\n",
        "S.pop()\n",
        "S"
      ],
      "metadata": {
        "colab": {
          "base_uri": "https://localhost:8080/"
        },
        "id": "PPr0fk4KBb3C",
        "outputId": "a6356a6c-6405-400a-929d-6fef3486a0ed"
      },
      "execution_count": null,
      "outputs": [
        {
          "output_type": "stream",
          "name": "stdout",
          "text": [
            "{1, 3, '5.2', 5.2, 7, 'siya'}\n"
          ]
        },
        {
          "output_type": "execute_result",
          "data": {
            "text/plain": [
              "{3, '5.2', 5.2, 7, 'siya'}"
            ]
          },
          "metadata": {},
          "execution_count": 26
        }
      ]
    },
    {
      "cell_type": "code",
      "source": [
        "# Check that its a spam message or not\n",
        "text = [\"Make lot of money\",\"Subscribe it now\",\"Click on this link\",\"buy now\"]\n",
        "message = input(\"Enter a message:\")\n",
        "if message in text:\n",
        "  print(\"It's a spam message\")\n",
        "else:\n",
        "  print(\"It's not a spam message\")\n"
      ],
      "metadata": {
        "colab": {
          "base_uri": "https://localhost:8080/"
        },
        "id": "pbvrSSLqB-Bt",
        "outputId": "e9355739-0677-4fd9-f006-7bfca812587e"
      },
      "execution_count": null,
      "outputs": [
        {
          "output_type": "stream",
          "name": "stdout",
          "text": [
            "Enter a message:buy now\n",
            "It's a spam message\n"
          ]
        }
      ]
    },
    {
      "cell_type": "code",
      "source": [
        "# Wap to print multiplication table using for loop\n",
        "for i in range(1,11):\n",
        "  print(f\"5 X {i} = \",5*i)"
      ],
      "metadata": {
        "colab": {
          "base_uri": "https://localhost:8080/"
        },
        "id": "BG5nZsGGEJuP",
        "outputId": "23a7102b-c516-4116-90ad-dd51074b6ffc"
      },
      "execution_count": null,
      "outputs": [
        {
          "output_type": "stream",
          "name": "stdout",
          "text": [
            "5 X 1 =  5\n",
            "5 X 2 =  10\n",
            "5 X 3 =  15\n",
            "5 X 4 =  20\n",
            "5 X 5 =  25\n",
            "5 X 6 =  30\n",
            "5 X 7 =  35\n",
            "5 X 8 =  40\n",
            "5 X 9 =  45\n",
            "5 X 10 =  50\n"
          ]
        }
      ]
    },
    {
      "cell_type": "code",
      "source": [
        "# Wap to print multiplication table using while loop\n",
        "i = 1\n",
        "while i<=10:\n",
        "  print(f\"5 X {i} = \",5*i)\n",
        "  i = i+1"
      ],
      "metadata": {
        "colab": {
          "base_uri": "https://localhost:8080/"
        },
        "id": "Ufe9n-QhEvpr",
        "outputId": "45a585a7-3795-4ece-aae3-01e45f87270b"
      },
      "execution_count": null,
      "outputs": [
        {
          "output_type": "stream",
          "name": "stdout",
          "text": [
            "5 X 1 =  5\n",
            "5 X 2 =  10\n",
            "5 X 3 =  15\n",
            "5 X 4 =  20\n",
            "5 X 5 =  25\n",
            "5 X 6 =  30\n",
            "5 X 7 =  35\n",
            "5 X 8 =  40\n",
            "5 X 9 =  45\n",
            "5 X 10 =  50\n"
          ]
        }
      ]
    },
    {
      "cell_type": "code",
      "source": [
        "# WAP to greet with their name stored in a list using for loop\n",
        "L = [\"Shiv\", \"Krishn\", \"Sita\",\"Mira\",\"Radha\"]\n",
        "for i in range(len(L)):\n",
        "  a = L[i]\n",
        "  print(f\"Namaste {a}\")"
      ],
      "metadata": {
        "colab": {
          "base_uri": "https://localhost:8080/"
        },
        "id": "UCKZbUs9FgvM",
        "outputId": "6bceb6a0-8e94-4a1b-9197-01e863088f02"
      },
      "execution_count": null,
      "outputs": [
        {
          "output_type": "stream",
          "name": "stdout",
          "text": [
            "Namaste Shiv\n",
            "Namaste Krishn\n",
            "Namaste Sita\n",
            "Namaste Mira\n",
            "Namaste Radha\n"
          ]
        }
      ]
    },
    {
      "cell_type": "code",
      "source": [
        "# WAP to greet with their name stored in a list  using while loop\n",
        "L = [\"Shiv\", \"Krishn\", \"Sita\",\"Mira\",\"Radha\"]\n",
        "i = 0\n",
        "while i < len(L):\n",
        "  a = L[i]\n",
        "  print(f\"Namaste {a}\")\n",
        "  i= i+1\n"
      ],
      "metadata": {
        "colab": {
          "base_uri": "https://localhost:8080/"
        },
        "id": "l-SEfEppGq2V",
        "outputId": "e814fbe2-5d48-4aa0-eb03-82aca7918547"
      },
      "execution_count": null,
      "outputs": [
        {
          "output_type": "stream",
          "name": "stdout",
          "text": [
            "Namaste Shiv\n",
            "Namaste Krishn\n",
            "Namaste Sita\n",
            "Namaste Mira\n",
            "Namaste Radha\n"
          ]
        }
      ]
    },
    {
      "cell_type": "code",
      "source": [
        "# WAP to check weather number is prime number or not using for loop\n",
        "N1 = 53\n",
        "for i in range(2,N1):\n",
        "  if N1%i == 0:\n",
        "    print(\"It's not a prime number\")\n",
        "\n",
        "  else:\n",
        "    print(\"It's a prime number\")\n",
        "  break\n",
        "\n"
      ],
      "metadata": {
        "colab": {
          "base_uri": "https://localhost:8080/"
        },
        "id": "DxbJyOyFHLox",
        "outputId": "fc455b22-c1f8-45d9-ca30-9fa03a874dd0"
      },
      "execution_count": null,
      "outputs": [
        {
          "output_type": "stream",
          "name": "stdout",
          "text": [
            "It's a prime number\n"
          ]
        }
      ]
    },
    {
      "cell_type": "code",
      "source": [
        "# WAP to check weather number is prime number or not using while loop\n",
        "N1 = 52\n",
        "i = 2\n",
        "while i < N1:\n",
        "  if N1%i == 0:\n",
        "    print(\"It's not a prime number\")\n",
        "\n",
        "  else:\n",
        "    print(\"It's a prime number\")\n",
        "  i=i+1\n",
        "  break\n"
      ],
      "metadata": {
        "colab": {
          "base_uri": "https://localhost:8080/"
        },
        "id": "D8gF03JhIFMO",
        "outputId": "44f79478-d343-474f-9914-10c8a9f6bb42"
      },
      "execution_count": null,
      "outputs": [
        {
          "output_type": "stream",
          "name": "stdout",
          "text": [
            "It's not a prime number\n"
          ]
        }
      ]
    },
    {
      "cell_type": "code",
      "source": [
        "# WAP to find factorial of a number using for loop\n",
        "N_1 = 7\n",
        "sum = 1\n",
        "for i in range(1,N_1+1):\n",
        "  sum = sum * i\n",
        "\n",
        "print(sum)"
      ],
      "metadata": {
        "colab": {
          "base_uri": "https://localhost:8080/"
        },
        "id": "CYEq7eGTJbta",
        "outputId": "2565abc3-a098-485d-b590-7d6580c5d653"
      },
      "execution_count": null,
      "outputs": [
        {
          "output_type": "stream",
          "name": "stdout",
          "text": [
            "5040\n"
          ]
        }
      ]
    },
    {
      "cell_type": "code",
      "source": [
        "# WAP to find factorial of a number using for loop\n",
        "N_1 = 5\n",
        "sum = 1\n",
        "i = 1\n",
        "while i < N_1+1:\n",
        "  sum = sum * i\n",
        "  i += 1\n",
        "print(sum)\n"
      ],
      "metadata": {
        "colab": {
          "base_uri": "https://localhost:8080/"
        },
        "id": "9VSW6Q8YKra2",
        "outputId": "75bee8bc-337b-4d75-ca1d-6860a2898eb5"
      },
      "execution_count": null,
      "outputs": [
        {
          "output_type": "stream",
          "name": "stdout",
          "text": [
            "120\n"
          ]
        }
      ]
    },
    {
      "cell_type": "code",
      "source": [
        "# WAP a program to print right angled traiangle using for loop\n",
        "\n",
        "for i in range(1,7):\n",
        "  for j in range(1,i+1):\n",
        "    print(\"*\",end=\"\")\n",
        "  print()\n"
      ],
      "metadata": {
        "colab": {
          "base_uri": "https://localhost:8080/"
        },
        "id": "ov4YeRbBMYmn",
        "outputId": "631eaaf1-5505-46f1-84e2-7aafa785d9e3"
      },
      "execution_count": null,
      "outputs": [
        {
          "output_type": "stream",
          "name": "stdout",
          "text": [
            "*\n",
            "**\n",
            "***\n",
            "****\n",
            "*****\n",
            "******\n"
          ]
        }
      ]
    },
    {
      "cell_type": "code",
      "source": [
        "# WAP a program to print right angled traiangle using while loop\n",
        "\n",
        "i = 1\n",
        "while i < 7:\n",
        "  j = 1\n",
        "  while j < i+1:\n",
        "    print(\"*\",end=\" \")\n",
        "    j = j+1\n",
        "  i = i+1\n",
        "  print()"
      ],
      "metadata": {
        "colab": {
          "base_uri": "https://localhost:8080/"
        },
        "id": "-nD7FDxAM3iA",
        "outputId": "7e12a503-2ed9-49f5-8901-d18e09037a33"
      },
      "execution_count": null,
      "outputs": [
        {
          "output_type": "stream",
          "name": "stdout",
          "text": [
            "* \n",
            "* * \n",
            "* * * \n",
            "* * * * \n",
            "* * * * * \n",
            "* * * * * * \n"
          ]
        }
      ]
    },
    {
      "cell_type": "code",
      "source": [
        "# WAP a program to print equilateral traiangle using for loop\n",
        "\n",
        "def print_triangle(n):\n",
        "    for i in range(n):\n",
        "        # Print leading spaces\n",
        "        for j in range(n - i - 1):\n",
        "            print(' ', end='')\n",
        "        # Print stars\n",
        "        for j in range(2 * i + 1):\n",
        "            print('*', end='')\n",
        "        # Move to the next line\n",
        "        print()\n",
        "\n",
        "print_triangle(5)"
      ],
      "metadata": {
        "colab": {
          "base_uri": "https://localhost:8080/"
        },
        "id": "kcQivE49OtE6",
        "outputId": "9af6b72e-ea70-4442-ac09-96dcd12c695c"
      },
      "execution_count": null,
      "outputs": [
        {
          "output_type": "stream",
          "name": "stdout",
          "text": [
            "    *\n",
            "   ***\n",
            "  *****\n",
            " *******\n",
            "*********\n"
          ]
        }
      ]
    },
    {
      "cell_type": "code",
      "source": [
        "# WAP a program to print equilateral traiangle using nested while loop\n",
        "def print_triangle(n):\n",
        "    i = 0\n",
        "    while i < n:\n",
        "        # Print leading spaces\n",
        "        j = 0\n",
        "        while j < n - i - 1:\n",
        "            print(' ', end='')\n",
        "            j += 1\n",
        "        # Print stars\n",
        "        j = 0\n",
        "        while j < 2 * i + 1:\n",
        "            print('*', end='')\n",
        "            j += 1\n",
        "        # Move to the next line\n",
        "        print()\n",
        "        i += 1\n",
        "\n",
        "print_triangle(5)\n"
      ],
      "metadata": {
        "colab": {
          "base_uri": "https://localhost:8080/"
        },
        "id": "UvXK8_ZmRyRj",
        "outputId": "e1af6bb6-2310-4174-fdca-1c52fa86d680"
      },
      "execution_count": null,
      "outputs": [
        {
          "output_type": "stream",
          "name": "stdout",
          "text": [
            "    *\n",
            "   ***\n",
            "  *****\n",
            " *******\n",
            "*********\n"
          ]
        }
      ]
    },
    {
      "cell_type": "code",
      "source": [
        "# Print Square\n",
        "for i in range(1,7):\n",
        "  for j in range(1,7):\n",
        "    print(\"*\",end=\" \")\n",
        "  print()"
      ],
      "metadata": {
        "colab": {
          "base_uri": "https://localhost:8080/"
        },
        "id": "RfdBCbsVV6U5",
        "outputId": "a05c4eca-95f6-49a3-c5a6-5048aafb6b4e"
      },
      "execution_count": null,
      "outputs": [
        {
          "output_type": "stream",
          "name": "stdout",
          "text": [
            "* * * * * * \n",
            "* * * * * * \n",
            "* * * * * * \n",
            "* * * * * * \n",
            "* * * * * * \n",
            "* * * * * * \n"
          ]
        }
      ]
    },
    {
      "cell_type": "code",
      "source": [
        "# hollow Square\n",
        "\n",
        "n = 5  # size of the square\n",
        "for i in range(n):\n",
        "    for j in range(n):\n",
        "        if i == 0 or i == n - 1 or j == 0 or j == n - 1:\n",
        "            print('*', end=' ')\n",
        "        else:\n",
        "            print(' ', end=' ')\n",
        "    print()\n"
      ],
      "metadata": {
        "colab": {
          "base_uri": "https://localhost:8080/"
        },
        "id": "AMxham8KWN7n",
        "outputId": "2bd40b28-6db8-4d04-f603-cb0e96328e75"
      },
      "execution_count": null,
      "outputs": [
        {
          "output_type": "stream",
          "name": "stdout",
          "text": [
            "* * * * * \n",
            "*       * \n",
            "*       * \n",
            "*       * \n",
            "* * * * * \n"
          ]
        }
      ]
    },
    {
      "cell_type": "code",
      "source": [
        "# Print A pattern\n",
        "\n",
        "n = 7  # size of the pattern\n",
        "for i in range(n):\n",
        "    for j in range(n):\n",
        "        if (j == 0 or j == n - 1) or (i == n // 2 and j > 0 and j < n - 1) or (i == 0 and j != 0 and j != n - 1):\n",
        "            print('*', end=' ')\n",
        "        else:\n",
        "            print(' ', end=' ')\n",
        "    print()\n"
      ],
      "metadata": {
        "colab": {
          "base_uri": "https://localhost:8080/"
        },
        "id": "wgpJT35TXFLf",
        "outputId": "43f5c6ed-a258-43fb-bb8c-93089fa4f9b2"
      },
      "execution_count": null,
      "outputs": [
        {
          "output_type": "stream",
          "name": "stdout",
          "text": [
            "* * * * * * * \n",
            "*           * \n",
            "*           * \n",
            "* * * * * * * \n",
            "*           * \n",
            "*           * \n",
            "*           * \n"
          ]
        }
      ]
    },
    {
      "cell_type": "code",
      "source": [
        "# print B pattern\n",
        "n = 7  # size of the pattern\n",
        "for i in range(n):\n",
        "    for j in range(n):\n",
        "        if (j == 0) or (j == n - 1 and (i != 0 and i != n - 1 and i != n // 2)) or ((i == 0 or i == n - 1 or i == n // 2) and j < n - 1):\n",
        "            print('*', end=' ')\n",
        "        else:\n",
        "            print(' ', end=' ')\n",
        "    print()\n"
      ],
      "metadata": {
        "colab": {
          "base_uri": "https://localhost:8080/"
        },
        "id": "-RLRn9YWXb7a",
        "outputId": "674a6688-edcf-4bce-a57c-2f1575610ef0"
      },
      "execution_count": null,
      "outputs": [
        {
          "output_type": "stream",
          "name": "stdout",
          "text": [
            "* * * * * *   \n",
            "*           * \n",
            "*           * \n",
            "* * * * * *   \n",
            "*           * \n",
            "*           * \n",
            "* * * * * *   \n"
          ]
        }
      ]
    },
    {
      "cell_type": "code",
      "source": [
        "# Print P pattern\n",
        "\n",
        "n = 7  # size of the pattern\n",
        "for i in range(n):\n",
        "    for j in range(n):\n",
        "        if (j == 0) or (j == n - 1 and i < n // 2) or ((i == 0 or i == n // 2) and j < n - 1):\n",
        "            print('*', end=' ')\n",
        "        else:\n",
        "            print(' ', end=' ')\n",
        "    print()\n"
      ],
      "metadata": {
        "colab": {
          "base_uri": "https://localhost:8080/"
        },
        "id": "p6GF3_5dXvTL",
        "outputId": "f9ae9e7a-25aa-44e9-c665-c2bef1e69dc5"
      },
      "execution_count": null,
      "outputs": [
        {
          "output_type": "stream",
          "name": "stdout",
          "text": [
            "* * * * * * * \n",
            "*           * \n",
            "*           * \n",
            "* * * * * *   \n",
            "*             \n",
            "*             \n",
            "*             \n"
          ]
        }
      ]
    },
    {
      "cell_type": "code",
      "source": [
        "n = 7  # size of the pattern\n",
        "for i in range(n):\n",
        "    for j in range(n):\n",
        "        if i == 0 or i == n - 1 or i + j == n - 1:\n",
        "            print('*', end=' ')\n",
        "        else:\n",
        "            print(' ', end=' ')\n",
        "    print()\n"
      ],
      "metadata": {
        "colab": {
          "base_uri": "https://localhost:8080/"
        },
        "id": "j7DR_HZ2X70A",
        "outputId": "238ffc87-903b-49d1-d415-c33155db2842"
      },
      "execution_count": null,
      "outputs": [
        {
          "output_type": "stream",
          "name": "stdout",
          "text": [
            "* * * * * * * \n",
            "          *   \n",
            "        *     \n",
            "      *       \n",
            "    *         \n",
            "  *           \n",
            "* * * * * * * \n"
          ]
        }
      ]
    },
    {
      "cell_type": "code",
      "source": [
        "n = 7  # size of the pattern\n",
        "for i in range(n):\n",
        "    for j in range(n):\n",
        "        if i == 0 or i == n - 1 or i == j:\n",
        "            print('*', end=' ')\n",
        "        else:\n",
        "            print(' ', end=' ')\n",
        "    print()\n"
      ],
      "metadata": {
        "colab": {
          "base_uri": "https://localhost:8080/"
        },
        "id": "NOroe6vXYHaK",
        "outputId": "97d96442-925f-4940-e2ed-a1e520d21545"
      },
      "execution_count": null,
      "outputs": [
        {
          "output_type": "stream",
          "name": "stdout",
          "text": [
            "* * * * * * * \n",
            "  *           \n",
            "    *         \n",
            "      *       \n",
            "        *     \n",
            "          *   \n",
            "* * * * * * * \n"
          ]
        }
      ]
    },
    {
      "cell_type": "code",
      "source": [
        "n = 7  # size of the pattern\n",
        "for i in range(n):\n",
        "    for j in range(n):\n",
        "        if i == j or i + j == n - 1:\n",
        "            print('*', end=' ')\n",
        "        else:\n",
        "            print(' ', end=' ')\n",
        "    print()\n"
      ],
      "metadata": {
        "colab": {
          "base_uri": "https://localhost:8080/"
        },
        "id": "2yhJgM6EYQt8",
        "outputId": "de5c1dd9-9d9e-4c7c-b9f9-69c39193dec5"
      },
      "execution_count": null,
      "outputs": [
        {
          "output_type": "stream",
          "name": "stdout",
          "text": [
            "*           * \n",
            "  *       *   \n",
            "    *   *     \n",
            "      *       \n",
            "    *   *     \n",
            "  *       *   \n",
            "*           * \n"
          ]
        }
      ]
    },
    {
      "cell_type": "code",
      "source": [
        "# Write a recursion code to print and find sum of n prime numbers\n",
        "def is_prime(num, i=2):\n",
        "    # Base cases\n",
        "    if num <= 2:\n",
        "        return num == 2\n",
        "    if num % i == 0:\n",
        "        return False\n",
        "    if i * i > num:\n",
        "        return True\n",
        "\n",
        "    # Check for next divisor\n",
        "    return is_prime(num, i + 1)\n",
        "\n",
        "def sum_of_primes(n, current=2, count=0, total=0):\n",
        "    if count == n:\n",
        "        return total\n",
        "    elif is_prime(current):\n",
        "        return sum_of_primes(n, current + 1, count + 1, total + current)\n",
        "    else:\n",
        "        return sum_of_primes(n, current + 1, count, total)\n",
        "# Change the number to find the sum of first n primes\n",
        "print(\"Sum of first 10 prime no. :\",sum_of_primes(10))\n"
      ],
      "metadata": {
        "colab": {
          "base_uri": "https://localhost:8080/"
        },
        "id": "koyOiUA-Ycpt",
        "outputId": "4c79b436-9c4e-459d-b33a-e1cf4e7b5bc4"
      },
      "execution_count": null,
      "outputs": [
        {
          "output_type": "stream",
          "name": "stdout",
          "text": [
            "Sum of first 10 prime no. : 129\n"
          ]
        }
      ]
    },
    {
      "cell_type": "code",
      "source": [
        "# OOPs programs"
      ],
      "metadata": {
        "id": "I8R8veNnZEfe"
      },
      "execution_count": null,
      "outputs": []
    },
    {
      "cell_type": "code",
      "source": [
        "# Create a class Programmer for storing information of few programmrt work at Microsoft.\n",
        "\n",
        "class Programmer:\n",
        "    def __init__(self, name, id, department, languages):\n",
        "        self.name = name\n",
        "        self.id = id\n",
        "        self.department = department\n",
        "        self.languages = languages\n",
        "\n",
        "    def get_details(self):\n",
        "        return f\"Name: {self.name}, ID: {self.id}, Department: {self.department}, Languages: {''.join(self.languages)}\"\n"
      ],
      "metadata": {
        "id": "lTWE9-zejIdr"
      },
      "execution_count": null,
      "outputs": []
    },
    {
      "cell_type": "code",
      "source": [
        "a = Programmer(\"Mira\",12552,\"food\",\"eng\")\n",
        "a.get_details()"
      ],
      "metadata": {
        "colab": {
          "base_uri": "https://localhost:8080/",
          "height": 35
        },
        "id": "vzBY7f53jxBK",
        "outputId": "5122e09c-35c6-46eb-e1e0-216ae56c7bfa"
      },
      "execution_count": null,
      "outputs": [
        {
          "output_type": "execute_result",
          "data": {
            "text/plain": [
              "'Name: Mira, ID: 12552, Department: food, Languages: eng'"
            ],
            "application/vnd.google.colaboratory.intrinsic+json": {
              "type": "string"
            }
          },
          "metadata": {},
          "execution_count": 11
        }
      ]
    },
    {
      "cell_type": "code",
      "source": [],
      "metadata": {
        "id": "wIhTrNMzkAOF"
      },
      "execution_count": null,
      "outputs": []
    }
  ]
}