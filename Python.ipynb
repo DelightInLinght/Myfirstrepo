{
  "nbformat": 4,
  "nbformat_minor": 0,
  "metadata": {
    "colab": {
      "provenance": [],
      "authorship_tag": "ABX9TyO5Z7dGuWEhma5oWFXzELQK"
    },
    "kernelspec": {
      "name": "python3",
      "display_name": "Python 3"
    },
    "language_info": {
      "name": "python"
    }
  },
  "cells": [
    {
      "cell_type": "code",
      "execution_count": null,
      "metadata": {
        "id": "Rq8jtfvjsYVI"
      },
      "outputs": [],
      "source": [
        "# Python Code"
      ]
    },
    {
      "cell_type": "code",
      "source": [
        "print(\"Hello Priyanka\")"
      ],
      "metadata": {
        "colab": {
          "base_uri": "https://localhost:8080/"
        },
        "id": "K2BO-QqXscZh",
        "outputId": "bd015120-3ac2-4d8b-c74c-16d47738b94f"
      },
      "execution_count": null,
      "outputs": [
        {
          "output_type": "stream",
          "name": "stdout",
          "text": [
            "Hello Priyanka\n"
          ]
        }
      ]
    },
    {
      "cell_type": "code",
      "source": [
        "Variable_name = 15\n",
        "Variable_name"
      ],
      "metadata": {
        "colab": {
          "base_uri": "https://localhost:8080/"
        },
        "id": "_-zoF9gQwND1",
        "outputId": "c0c7d21c-c03f-419a-bfe2-c3c0b1c0b0dd"
      },
      "execution_count": null,
      "outputs": [
        {
          "output_type": "execute_result",
          "data": {
            "text/plain": [
              "15"
            ]
          },
          "metadata": {},
          "execution_count": 4
        }
      ]
    },
    {
      "cell_type": "code",
      "source": [
        "\"\"\"Varaiable name should be alphanumeric only\n",
        "   Varaible name should not start with digit\n",
        "   Variable name can't be a keywords\"\"\""
      ],
      "metadata": {
        "colab": {
          "base_uri": "https://localhost:8080/",
          "height": 35
        },
        "id": "bUu9KBA2wUtm",
        "outputId": "e2955042-1198-4cd9-ff57-fb249d172a34"
      },
      "execution_count": null,
      "outputs": [
        {
          "output_type": "execute_result",
          "data": {
            "text/plain": [
              "\"Varaiable name should be alphanumeric only\\n   Varaible name should not start with digit\\n   Variable name can't be a keywords\""
            ],
            "application/vnd.google.colaboratory.intrinsic+json": {
              "type": "string"
            }
          },
          "metadata": {},
          "execution_count": 5
        }
      ]
    },
    {
      "cell_type": "code",
      "source": [
        "Var_bool = True\n",
        "Var_bool"
      ],
      "metadata": {
        "colab": {
          "base_uri": "https://localhost:8080/"
        },
        "id": "L32qXyDxxHL9",
        "outputId": "bcfa376d-faf0-4470-9cb1-cb26eea48611"
      },
      "execution_count": null,
      "outputs": [
        {
          "output_type": "execute_result",
          "data": {
            "text/plain": [
              "True"
            ]
          },
          "metadata": {},
          "execution_count": 6
        }
      ]
    },
    {
      "cell_type": "code",
      "source": [
        "x, y, z, i = 1,4,5,7\n",
        "print(x,y,z,i)"
      ],
      "metadata": {
        "colab": {
          "base_uri": "https://localhost:8080/"
        },
        "id": "dOUC2ku3x5TG",
        "outputId": "6b969c18-6661-4615-c325-c8ee9e2ecc7f"
      },
      "execution_count": null,
      "outputs": [
        {
          "output_type": "stream",
          "name": "stdout",
          "text": [
            "1 4 5 7\n"
          ]
        }
      ]
    },
    {
      "cell_type": "code",
      "source": [
        "x=y=z=i=455\n",
        "print(x,y,z,i)"
      ],
      "metadata": {
        "colab": {
          "base_uri": "https://localhost:8080/"
        },
        "id": "QNeva44dyIqW",
        "outputId": "ea7dea9a-9fbe-431b-c612-b88aea9e9cfd"
      },
      "execution_count": null,
      "outputs": [
        {
          "output_type": "stream",
          "name": "stdout",
          "text": [
            "455 455 455 455\n"
          ]
        }
      ]
    },
    {
      "cell_type": "code",
      "source": [
        "x,y = 2, 3+7j\n",
        "print(x)\n",
        "y"
      ],
      "metadata": {
        "colab": {
          "base_uri": "https://localhost:8080/"
        },
        "id": "cOMVavpKyT-2",
        "outputId": "a69805ee-ddd1-415f-a179-d0ce1efbda91"
      },
      "execution_count": null,
      "outputs": [
        {
          "output_type": "stream",
          "name": "stdout",
          "text": [
            "2\n"
          ]
        },
        {
          "output_type": "execute_result",
          "data": {
            "text/plain": [
              "(3+7j)"
            ]
          },
          "metadata": {},
          "execution_count": 11
        }
      ]
    },
    {
      "cell_type": "code",
      "source": [
        "a = \"Hello\"\n",
        "b = 4\n",
        "c = 7.554\n",
        "d = 4.1 + 3.1j\n",
        "print(type(a))\n",
        "print(type(b))\n",
        "print(type(c))\n",
        "print(type(d))"
      ],
      "metadata": {
        "colab": {
          "base_uri": "https://localhost:8080/"
        },
        "id": "4_vvYNVQyii3",
        "outputId": "0c3d61cf-3b3f-4d21-b488-ce74803c5b5d"
      },
      "execution_count": null,
      "outputs": [
        {
          "output_type": "stream",
          "name": "stdout",
          "text": [
            "<class 'str'>\n",
            "<class 'int'>\n",
            "<class 'float'>\n",
            "<class 'complex'>\n"
          ]
        }
      ]
    },
    {
      "cell_type": "code",
      "source": [
        "i = j = a = b = c,d = 4,7\n",
        "print(i, type(i))\n",
        "print(j, type(j))\n",
        "print(a, type(a))\n",
        "print(b, type(b))\n",
        "print(c, type(c))\n",
        "print(d, type(d))"
      ],
      "metadata": {
        "colab": {
          "base_uri": "https://localhost:8080/"
        },
        "id": "6mvWbf1Sy-hO",
        "outputId": "47984158-cebe-4d89-f263-0d66ed658ebf"
      },
      "execution_count": null,
      "outputs": [
        {
          "output_type": "stream",
          "name": "stdout",
          "text": [
            "(4, 7) <class 'tuple'>\n",
            "(4, 7) <class 'tuple'>\n",
            "(4, 7) <class 'tuple'>\n",
            "(4, 7) <class 'tuple'>\n",
            "4 <class 'int'>\n",
            "7 <class 'int'>\n"
          ]
        }
      ]
    },
    {
      "cell_type": "code",
      "source": [
        "Tuple = 4, 5, 8, 7, 62, 78"
      ],
      "metadata": {
        "id": "zZ_kM6jhzajc"
      },
      "execution_count": null,
      "outputs": []
    },
    {
      "cell_type": "code",
      "source": [
        "print(type(Tuple))"
      ],
      "metadata": {
        "colab": {
          "base_uri": "https://localhost:8080/"
        },
        "id": "LwI_jbKL8zBC",
        "outputId": "2d6c6ada-4224-43d9-f484-104e2874dfd7"
      },
      "execution_count": null,
      "outputs": [
        {
          "output_type": "stream",
          "name": "stdout",
          "text": [
            "<class 'tuple'>\n"
          ]
        }
      ]
    },
    {
      "cell_type": "code",
      "source": [
        "ab,Tuple = 4, (5,7,8,6)\n",
        "print(type(ab))\n",
        "print(type(Tuple))"
      ],
      "metadata": {
        "colab": {
          "base_uri": "https://localhost:8080/"
        },
        "id": "ANYcAFgb81s1",
        "outputId": "67b0fcc2-28fa-4527-f945-a7f33cafaf95"
      },
      "execution_count": null,
      "outputs": [
        {
          "output_type": "stream",
          "name": "stdout",
          "text": [
            "<class 'int'>\n",
            "<class 'tuple'>\n"
          ]
        }
      ]
    },
    {
      "cell_type": "code",
      "source": [
        "i = j = a = b = (c,d,c,m) = [4,7,5,8]\n",
        "print(i, type(i))\n",
        "print(j, type(j))\n",
        "print(a, type(a))\n",
        "print(b, type(b))\n",
        "print(c, type(c))\n",
        "print(d, type(d))"
      ],
      "metadata": {
        "colab": {
          "base_uri": "https://localhost:8080/"
        },
        "id": "TpGWC0QD9D_x",
        "outputId": "9ec08da5-1416-4b1c-a21d-13c103010a95"
      },
      "execution_count": null,
      "outputs": [
        {
          "output_type": "stream",
          "name": "stdout",
          "text": [
            "[4, 7, 5, 8] <class 'list'>\n",
            "[4, 7, 5, 8] <class 'list'>\n",
            "[4, 7, 5, 8] <class 'list'>\n",
            "[4, 7, 5, 8] <class 'list'>\n",
            "5 <class 'int'>\n",
            "7 <class 'int'>\n"
          ]
        }
      ]
    },
    {
      "cell_type": "code",
      "source": [
        "string =  \"my name is Priyanka\"\n",
        "string"
      ],
      "metadata": {
        "colab": {
          "base_uri": "https://localhost:8080/",
          "height": 35
        },
        "id": "H2MUFlR4_PCZ",
        "outputId": "1d194bf8-43ec-46fe-ce8d-25517a1ef682"
      },
      "execution_count": null,
      "outputs": [
        {
          "output_type": "execute_result",
          "data": {
            "text/plain": [
              "'my name is \\t Priyanka'"
            ],
            "application/vnd.google.colaboratory.intrinsic+json": {
              "type": "string"
            }
          },
          "metadata": {},
          "execution_count": 41
        }
      ]
    },
    {
      "cell_type": "code",
      "source": [
        "len(string)"
      ],
      "metadata": {
        "id": "YQ7QqtEfA20U",
        "colab": {
          "base_uri": "https://localhost:8080/"
        },
        "outputId": "5eb3ee60-6b3a-4a19-8a55-9f360f24d749"
      },
      "execution_count": null,
      "outputs": [
        {
          "output_type": "execute_result",
          "data": {
            "text/plain": [
              "21"
            ]
          },
          "metadata": {},
          "execution_count": 42
        }
      ]
    },
    {
      "cell_type": "code",
      "source": [
        "string[5:22]"
      ],
      "metadata": {
        "colab": {
          "base_uri": "https://localhost:8080/",
          "height": 35
        },
        "id": "CKXi8rG4GvsG",
        "outputId": "71ce6e3d-7d43-4bf7-e951-958cf903aa9e"
      },
      "execution_count": null,
      "outputs": [
        {
          "output_type": "execute_result",
          "data": {
            "text/plain": [
              "'me is \\t Priyanka'"
            ],
            "application/vnd.google.colaboratory.intrinsic+json": {
              "type": "string"
            }
          },
          "metadata": {},
          "execution_count": 43
        }
      ]
    },
    {
      "cell_type": "code",
      "source": [
        "string[-1:22]"
      ],
      "metadata": {
        "colab": {
          "base_uri": "https://localhost:8080/",
          "height": 35
        },
        "id": "lbpHKz4DGzcl",
        "outputId": "e1717665-352e-418a-d4ee-833a6b3d87f1"
      },
      "execution_count": null,
      "outputs": [
        {
          "output_type": "execute_result",
          "data": {
            "text/plain": [
              "'a'"
            ],
            "application/vnd.google.colaboratory.intrinsic+json": {
              "type": "string"
            }
          },
          "metadata": {},
          "execution_count": 45
        }
      ]
    },
    {
      "cell_type": "code",
      "source": [
        "string[-1:2]"
      ],
      "metadata": {
        "colab": {
          "base_uri": "https://localhost:8080/",
          "height": 35
        },
        "id": "POmFBR-sG7Au",
        "outputId": "f49d82ff-9c42-4667-824e-1824dc75a94f"
      },
      "execution_count": null,
      "outputs": [
        {
          "output_type": "execute_result",
          "data": {
            "text/plain": [
              "''"
            ],
            "application/vnd.google.colaboratory.intrinsic+json": {
              "type": "string"
            }
          },
          "metadata": {},
          "execution_count": 46
        }
      ]
    },
    {
      "cell_type": "code",
      "source": [
        "range(-1,5,1) # -1,0,1,2,3,5"
      ],
      "metadata": {
        "colab": {
          "base_uri": "https://localhost:8080/"
        },
        "id": "ZBvTuAtWHIam",
        "outputId": "ac4c8d3e-8c35-4b3b-f314-6ef243b5848d"
      },
      "execution_count": null,
      "outputs": [
        {
          "output_type": "execute_result",
          "data": {
            "text/plain": [
              "range(-1, 5)"
            ]
          },
          "metadata": {},
          "execution_count": 58
        }
      ]
    },
    {
      "cell_type": "code",
      "source": [
        "dict1 = {\"a\":1,\"b\":2,\"c\":3,\"d\":4}"
      ],
      "metadata": {
        "id": "l0jsmiNcHK5f"
      },
      "execution_count": null,
      "outputs": []
    },
    {
      "cell_type": "code",
      "source": [
        "dict1"
      ],
      "metadata": {
        "colab": {
          "base_uri": "https://localhost:8080/"
        },
        "id": "RXrC_daNL4W2",
        "outputId": "88bffa7c-fa5a-447e-8224-e25f32b74fb3"
      },
      "execution_count": null,
      "outputs": [
        {
          "output_type": "execute_result",
          "data": {
            "text/plain": [
              "{'a': 1, 'b': 2, 'c': 3, 'd': 4}"
            ]
          },
          "metadata": {},
          "execution_count": 60
        }
      ]
    },
    {
      "cell_type": "code",
      "source": [
        "{\"k\":75,**dict1}"
      ],
      "metadata": {
        "colab": {
          "base_uri": "https://localhost:8080/"
        },
        "id": "Z004RVnJMHFm",
        "outputId": "3cf605d9-8b6e-4135-e0d7-f7a8bf6f0fb9"
      },
      "execution_count": null,
      "outputs": [
        {
          "output_type": "execute_result",
          "data": {
            "text/plain": [
              "{'k': 75, 'a': 1, 'b': 2, 'c': 3, 'd': 4}"
            ]
          },
          "metadata": {},
          "execution_count": 62
        }
      ]
    },
    {
      "cell_type": "code",
      "source": [],
      "metadata": {
        "id": "53Si0KmvMJpt"
      },
      "execution_count": null,
      "outputs": []
    }
  ]
}